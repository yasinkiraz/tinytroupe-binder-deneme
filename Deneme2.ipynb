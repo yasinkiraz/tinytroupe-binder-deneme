{
 "cells": [
  {
   "cell_type": "markdown",
   "metadata": {},
   "source": [
    "## TinyTroupe & Gemini 1.5 Flash MyBinder Denemesi\n",
    "\n",
    "Bu notebook, `microsoft/TinyTroupe` kütüphanesini Google'ın hızlı ve verimli **Gemini 1.5 Flash** modeli ile test etmek için hazırlanmıştır."
   ]
  },
  {
   "cell_type": "markdown",
   "metadata": {},
   "source": [
    "### Adım 1: Gerekli Kütüphaneleri Yükleme ve API Anahtarını Ayarlama\n",
    "\n",
    "Aşağıdaki hücreyi çalıştırarak gerekli kütüphaneleri ve **Gemini API** anahtarınızı güvenli bir şekilde sisteme tanıtacağız."
   ]
  },
  {
   "cell_type": "code",
   "execution_count": null,
   "metadata": {},
   "outputs": [],
   "source": [
    "import os\n",
    "import getpass\n",
    "import tinytroupe as tt\n",
    "\n",
    "print(\"TinyTroupe ve diğer kütüphaneler başarıyla import edildi.\")\n",
    "\n",
    "# API Anahtarını güvenli bir şekilde kullanıcıdan isteme\n",
    "api_key = getpass.getpass(\"Lütfen Google AI Studio'dan aldığınız Gemini API Anahtarınızı girin ve Enter'a basın: \")\n",
    "\n",
    "# API anahtarını Gemini için doğru ortam değişkeni olarak ayarlama\n",
    "os.environ[\"GEMINI_API_KEY\"] = api_key\n",
    "\n",
    "print(\"\\nGemini API Anahtarı başarıyla ayarlandı!\")"
   ]
  },
  {
   "cell_type": "markdown",
   "metadata": {},
   "source": [
    "### Adım 2: Gemini 1.5 Flash Modelini Kullanacak Ajanları Oluşturma\n",
    "\n",
    "Şimdi bir 'Yazar' ve bir 'Eleştirmen' ajanı oluşturalım. **Önemli:** Ajanları oluştururken `model` parametresini `\"gemini/gemini-1.5-flash-latest\"` olarak belirtiyoruz."
   ]
  },
  {
   "cell_type": "code",
   "execution_count": null,
   "metadata": {},
   "outputs": [],
   "source": [
    "# Yazar Ajanı: Gemini 1.5 Flash modelini kullanarak kısa bir hikaye yazar.\n",
    "writer_agent = tt.Agent(\n",
    "    name=\"Writer\",\n",
    "    role_prompt=\"You are a creative writer. Your task is to write a short, engaging paragraph based on a given topic.\",\n",
    "    model=\"gemini/gemini-1.5-flash-latest\"  # Gemini 1.5 Flash modelini burada belirtiyoruz\n",
    ")\n",
    "\n",
    "# Eleştirmen Ajanı: Gemini 1.5 Flash modelini kullanarak metni inceler ve yapıcı geri bildirimde bulunur.\n",
    "critic_agent = tt.Agent(\n",
    "    name=\"Critic\",\n",
    "    role_prompt=\"You are a literary critic. Your task is to review a piece of writing and provide one sentence of constructive feedback to improve it.\",\n",
    "    model=\"gemini/gemini-1.5-flash-latest\"  # Gemini 1.5 Flash modelini burada da belirtiyoruz\n",
    ")\n",
    "\n",
    "print(\"Gemini 1.5 Flash kullanan Yazar ve Eleştirmen ajanları oluşturuldu.\")"
   ]
  },
  {
   "cell_type": "markdown",
   "metadata": {},
   "source": [
    "### Adım 3: Topluluğu Çalıştırma\n",
    "\n",
    "Şimdi bu iki ajanın birlikte çalışmasını sağlayalım. Yazar bir hikaye yazacak, eleştirmen ise yorum yapacak."
   ]
  },
  {
   "cell_type": "code",
   "execution_count": null,
   "metadata": {},
   "outputs": [],
   "source": [
    "try:\n",
    "    # Ajanları bir toplulukta birleştirme\n",
    "    writing_troupe = tt.pipe(writer_agent, critic_agent)\n",
    "\n",
    "    # Topluluğu bir görevle başlatma\n",
    "    topic = \"a squirrel who opens a coffee shop for other forest animals\"\n",
    "    print(f\"Görev Başlatılıyor: '{topic}'...\\n\")\n",
    "\n",
    "    # Topluluğu çalıştır ve sonucu al\n",
    "    final_response = writing_troupe.send(topic)\n",
    "\n",
    "    print(\"\\n--- SONUÇ ---\")\n",
    "    print(final_response)\n",
    "    \n",
    "except Exception as e:\n",
    "    print(f\"Bir hata oluştu: {e}\")\n",
    "    print(\"Lütfen Gemini API anahtarınızın doğru ve geçerli olduğundan emin olun.\")"
   ]
  }
 ],
 "metadata": {
  "kernelspec": {
   "display_name": "Python 3",
   "language": "python",
   "name": "python3"
  },
  "language_info": {
   "codemirror_mode": {
    "name": "ipython",
    "version": 3
   },
   "file_extension": ".py",
   "mimetype": "text/x-python",
   "name": "python",
   "nbconvert_exporter": "python",
   "pygments_lexer": "ipython3",
   "version": "3.9.7"
  }
 },
 "nbformat": 4,
 "nbformat_minor": 4
}
